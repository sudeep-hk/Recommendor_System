{
 "cells": [
  {
   "cell_type": "markdown",
   "id": "57a25c2d",
   "metadata": {},
   "source": [
    "# import data and lib"
   ]
  },
  {
   "cell_type": "code",
   "execution_count": 2,
   "id": "c272b00b",
   "metadata": {},
   "outputs": [],
   "source": [
    "import numpy as np\n",
    "import pandas as pd\n",
    "from sklearn.metrics import mean_squared_error, pairwise_distances\n",
    "from sklearn.model_selection import train_test_split\n"
   ]
  },
  {
   "cell_type": "code",
   "execution_count": 3,
   "id": "f72f40c8",
   "metadata": {},
   "outputs": [],
   "source": [
    "#read rating file\n",
    "ratings=pd.read_csv('train.csv')\n",
    "\n",
    "#article info\n",
    "article_info=pd.read_csv('article_info.csv')\n",
    "\n",
    "#test file\n",
    "test=pd.read_csv('test.csv')"
   ]
  },
  {
   "cell_type": "code",
   "execution_count": 4,
   "id": "f0c77a47",
   "metadata": {
    "scrolled": true
   },
   "outputs": [
    {
     "data": {
      "text/html": [
       "<div>\n",
       "<style scoped>\n",
       "    .dataframe tbody tr th:only-of-type {\n",
       "        vertical-align: middle;\n",
       "    }\n",
       "\n",
       "    .dataframe tbody tr th {\n",
       "        vertical-align: top;\n",
       "    }\n",
       "\n",
       "    .dataframe thead th {\n",
       "        text-align: right;\n",
       "    }\n",
       "</style>\n",
       "<table border=\"1\" class=\"dataframe\">\n",
       "  <thead>\n",
       "    <tr style=\"text-align: right;\">\n",
       "      <th></th>\n",
       "      <th>article_id</th>\n",
       "      <th>website</th>\n",
       "      <th>title</th>\n",
       "      <th>content</th>\n",
       "    </tr>\n",
       "  </thead>\n",
       "  <tbody>\n",
       "    <tr>\n",
       "      <th>0</th>\n",
       "      <td>1025</td>\n",
       "      <td>uxmovement</td>\n",
       "      <td>Comment concevoir une procédure pas à pas que ...</td>\n",
       "      <td>par anthony le 18/07/16 à 8h02 Si une nouvelle...</td>\n",
       "    </tr>\n",
       "    <tr>\n",
       "      <th>1</th>\n",
       "      <td>2328</td>\n",
       "      <td>endeavor</td>\n",
       "      <td>Ressources humaines? Seulement si vous optez p...</td>\n",
       "      <td>«Ambassadeurs», «avocats», «porte-parole» d'un...</td>\n",
       "    </tr>\n",
       "    <tr>\n",
       "      <th>2</th>\n",
       "      <td>2469</td>\n",
       "      <td>linkedin</td>\n",
       "      <td>Deux motions de vente différentes. . . .</td>\n",
       "      <td>J'ai passé pas mal de temps récemment avec des...</td>\n",
       "    </tr>\n",
       "    <tr>\n",
       "      <th>3</th>\n",
       "      <td>2590</td>\n",
       "      <td>googleblog</td>\n",
       "      <td>Apprentissage large et profond: mieux avec Ten...</td>\n",
       "      <td>\"Apprenez les règles comme un pro, afin de pou...</td>\n",
       "    </tr>\n",
       "    <tr>\n",
       "      <th>4</th>\n",
       "      <td>697</td>\n",
       "      <td>infoq</td>\n",
       "      <td>Agile: manque de compétences en tests</td>\n",
       "      <td>Fran O'Hara, directeur et consultant principal...</td>\n",
       "    </tr>\n",
       "  </tbody>\n",
       "</table>\n",
       "</div>"
      ],
      "text/plain": [
       "   article_id     website                                              title  \\\n",
       "0        1025  uxmovement  Comment concevoir une procédure pas à pas que ...   \n",
       "1        2328    endeavor  Ressources humaines? Seulement si vous optez p...   \n",
       "2        2469    linkedin           Deux motions de vente différentes. . . .   \n",
       "3        2590  googleblog  Apprentissage large et profond: mieux avec Ten...   \n",
       "4         697       infoq              Agile: manque de compétences en tests   \n",
       "\n",
       "                                             content  \n",
       "0  par anthony le 18/07/16 à 8h02 Si une nouvelle...  \n",
       "1  «Ambassadeurs», «avocats», «porte-parole» d'un...  \n",
       "2  J'ai passé pas mal de temps récemment avec des...  \n",
       "3  \"Apprenez les règles comme un pro, afin de pou...  \n",
       "4  Fran O'Hara, directeur et consultant principal...  "
      ]
     },
     "execution_count": 4,
     "metadata": {},
     "output_type": "execute_result"
    }
   ],
   "source": [
    "article_info.head()"
   ]
  },
  {
   "cell_type": "code",
   "execution_count": 5,
   "id": "eddfc99c",
   "metadata": {},
   "outputs": [
    {
     "data": {
      "text/html": [
       "<div>\n",
       "<style scoped>\n",
       "    .dataframe tbody tr th:only-of-type {\n",
       "        vertical-align: middle;\n",
       "    }\n",
       "\n",
       "    .dataframe tbody tr th {\n",
       "        vertical-align: top;\n",
       "    }\n",
       "\n",
       "    .dataframe thead th {\n",
       "        text-align: right;\n",
       "    }\n",
       "</style>\n",
       "<table border=\"1\" class=\"dataframe\">\n",
       "  <thead>\n",
       "    <tr style=\"text-align: right;\">\n",
       "      <th></th>\n",
       "      <th>user_id</th>\n",
       "      <th>article_id</th>\n",
       "    </tr>\n",
       "  </thead>\n",
       "  <tbody>\n",
       "    <tr>\n",
       "      <th>0</th>\n",
       "      <td>1</td>\n",
       "      <td>2607</td>\n",
       "    </tr>\n",
       "    <tr>\n",
       "      <th>1</th>\n",
       "      <td>1</td>\n",
       "      <td>1445</td>\n",
       "    </tr>\n",
       "    <tr>\n",
       "      <th>2</th>\n",
       "      <td>1</td>\n",
       "      <td>911</td>\n",
       "    </tr>\n",
       "    <tr>\n",
       "      <th>3</th>\n",
       "      <td>1</td>\n",
       "      <td>857</td>\n",
       "    </tr>\n",
       "    <tr>\n",
       "      <th>4</th>\n",
       "      <td>1</td>\n",
       "      <td>2062</td>\n",
       "    </tr>\n",
       "    <tr>\n",
       "      <th>...</th>\n",
       "      <td>...</td>\n",
       "      <td>...</td>\n",
       "    </tr>\n",
       "    <tr>\n",
       "      <th>7238</th>\n",
       "      <td>1087</td>\n",
       "      <td>2089</td>\n",
       "    </tr>\n",
       "    <tr>\n",
       "      <th>7239</th>\n",
       "      <td>1087</td>\n",
       "      <td>504</td>\n",
       "    </tr>\n",
       "    <tr>\n",
       "      <th>7240</th>\n",
       "      <td>1087</td>\n",
       "      <td>1801</td>\n",
       "    </tr>\n",
       "    <tr>\n",
       "      <th>7241</th>\n",
       "      <td>1087</td>\n",
       "      <td>967</td>\n",
       "    </tr>\n",
       "    <tr>\n",
       "      <th>7242</th>\n",
       "      <td>1087</td>\n",
       "      <td>857</td>\n",
       "    </tr>\n",
       "  </tbody>\n",
       "</table>\n",
       "<p>7243 rows × 2 columns</p>\n",
       "</div>"
      ],
      "text/plain": [
       "      user_id  article_id\n",
       "0           1        2607\n",
       "1           1        1445\n",
       "2           1         911\n",
       "3           1         857\n",
       "4           1        2062\n",
       "...       ...         ...\n",
       "7238     1087        2089\n",
       "7239     1087         504\n",
       "7240     1087        1801\n",
       "7241     1087         967\n",
       "7242     1087         857\n",
       "\n",
       "[7243 rows x 2 columns]"
      ]
     },
     "execution_count": 5,
     "metadata": {},
     "output_type": "execute_result"
    }
   ],
   "source": [
    "test"
   ]
  },
  {
   "cell_type": "code",
   "execution_count": 6,
   "id": "3598fdb0",
   "metadata": {},
   "outputs": [
    {
     "data": {
      "text/html": [
       "<div>\n",
       "<style scoped>\n",
       "    .dataframe tbody tr th:only-of-type {\n",
       "        vertical-align: middle;\n",
       "    }\n",
       "\n",
       "    .dataframe tbody tr th {\n",
       "        vertical-align: top;\n",
       "    }\n",
       "\n",
       "    .dataframe thead th {\n",
       "        text-align: right;\n",
       "    }\n",
       "</style>\n",
       "<table border=\"1\" class=\"dataframe\">\n",
       "  <thead>\n",
       "    <tr style=\"text-align: right;\">\n",
       "      <th></th>\n",
       "      <th>user_id</th>\n",
       "      <th>article_id</th>\n",
       "      <th>rating</th>\n",
       "    </tr>\n",
       "  </thead>\n",
       "  <tbody>\n",
       "    <tr>\n",
       "      <th>0</th>\n",
       "      <td>1</td>\n",
       "      <td>456</td>\n",
       "      <td>1</td>\n",
       "    </tr>\n",
       "    <tr>\n",
       "      <th>1</th>\n",
       "      <td>1</td>\n",
       "      <td>2934</td>\n",
       "      <td>1</td>\n",
       "    </tr>\n",
       "    <tr>\n",
       "      <th>2</th>\n",
       "      <td>1</td>\n",
       "      <td>82</td>\n",
       "      <td>1</td>\n",
       "    </tr>\n",
       "    <tr>\n",
       "      <th>3</th>\n",
       "      <td>1</td>\n",
       "      <td>1365</td>\n",
       "      <td>1</td>\n",
       "    </tr>\n",
       "    <tr>\n",
       "      <th>4</th>\n",
       "      <td>1</td>\n",
       "      <td>221</td>\n",
       "      <td>1</td>\n",
       "    </tr>\n",
       "  </tbody>\n",
       "</table>\n",
       "</div>"
      ],
      "text/plain": [
       "   user_id  article_id  rating\n",
       "0        1         456       1\n",
       "1        1        2934       1\n",
       "2        1          82       1\n",
       "3        1        1365       1\n",
       "4        1         221       1"
      ]
     },
     "execution_count": 6,
     "metadata": {},
     "output_type": "execute_result"
    }
   ],
   "source": [
    "ratings.head()"
   ]
  },
  {
   "cell_type": "markdown",
   "id": "a7d2da03",
   "metadata": {},
   "source": [
    "# Merge data set for organised data"
   ]
  },
  {
   "cell_type": "code",
   "execution_count": 7,
   "id": "721edaef",
   "metadata": {},
   "outputs": [],
   "source": [
    "ratings=ratings.merge(article_info[['article_id','title']],how='left',left_on='article_id',right_on='article_id')"
   ]
  },
  {
   "cell_type": "code",
   "execution_count": 8,
   "id": "d8cd4e57",
   "metadata": {},
   "outputs": [
    {
     "data": {
      "text/html": [
       "<div>\n",
       "<style scoped>\n",
       "    .dataframe tbody tr th:only-of-type {\n",
       "        vertical-align: middle;\n",
       "    }\n",
       "\n",
       "    .dataframe tbody tr th {\n",
       "        vertical-align: top;\n",
       "    }\n",
       "\n",
       "    .dataframe thead th {\n",
       "        text-align: right;\n",
       "    }\n",
       "</style>\n",
       "<table border=\"1\" class=\"dataframe\">\n",
       "  <thead>\n",
       "    <tr style=\"text-align: right;\">\n",
       "      <th></th>\n",
       "      <th>user_id</th>\n",
       "      <th>article_id</th>\n",
       "      <th>rating</th>\n",
       "      <th>title</th>\n",
       "    </tr>\n",
       "  </thead>\n",
       "  <tbody>\n",
       "    <tr>\n",
       "      <th>0</th>\n",
       "      <td>1</td>\n",
       "      <td>456</td>\n",
       "      <td>1</td>\n",
       "      <td>Obtenez 6 mois d'accès à Pluralsight, la plus ...</td>\n",
       "    </tr>\n",
       "    <tr>\n",
       "      <th>1</th>\n",
       "      <td>1</td>\n",
       "      <td>2934</td>\n",
       "      <td>1</td>\n",
       "      <td>La plateforme cloud de Google est désormais un...</td>\n",
       "    </tr>\n",
       "    <tr>\n",
       "      <th>2</th>\n",
       "      <td>1</td>\n",
       "      <td>82</td>\n",
       "      <td>1</td>\n",
       "      <td>La technologie derrière les photos d'aperçu</td>\n",
       "    </tr>\n",
       "    <tr>\n",
       "      <th>3</th>\n",
       "      <td>1</td>\n",
       "      <td>1365</td>\n",
       "      <td>1</td>\n",
       "      <td>Les VM préemptives de Google Cloud Platform so...</td>\n",
       "    </tr>\n",
       "    <tr>\n",
       "      <th>4</th>\n",
       "      <td>1</td>\n",
       "      <td>221</td>\n",
       "      <td>1</td>\n",
       "      <td>Ray Kurzweil: Le monde ne se détériore pas - n...</td>\n",
       "    </tr>\n",
       "    <tr>\n",
       "      <th>...</th>\n",
       "      <td>...</td>\n",
       "      <td>...</td>\n",
       "      <td>...</td>\n",
       "      <td>...</td>\n",
       "    </tr>\n",
       "    <tr>\n",
       "      <th>16726</th>\n",
       "      <td>1087</td>\n",
       "      <td>2242</td>\n",
       "      <td>1</td>\n",
       "      <td>Optimiser l'utilisation de la mémoire Arduino</td>\n",
       "    </tr>\n",
       "    <tr>\n",
       "      <th>16727</th>\n",
       "      <td>1087</td>\n",
       "      <td>419</td>\n",
       "      <td>1</td>\n",
       "      <td>Le plan national de l'Internet des objets sort...</td>\n",
       "    </tr>\n",
       "    <tr>\n",
       "      <th>16728</th>\n",
       "      <td>1087</td>\n",
       "      <td>784</td>\n",
       "      <td>1</td>\n",
       "      <td>Nintendo sortira Mini NES avec 30 jeux préchar...</td>\n",
       "    </tr>\n",
       "    <tr>\n",
       "      <th>16729</th>\n",
       "      <td>1087</td>\n",
       "      <td>1249</td>\n",
       "      <td>1</td>\n",
       "      <td>Coût d'erreur - Cinq raisons d'investir dans l...</td>\n",
       "    </tr>\n",
       "    <tr>\n",
       "      <th>16730</th>\n",
       "      <td>1087</td>\n",
       "      <td>1692</td>\n",
       "      <td>1</td>\n",
       "      <td>Tabs vs Spaces: comment ils écrivent Java sur ...</td>\n",
       "    </tr>\n",
       "  </tbody>\n",
       "</table>\n",
       "<p>16731 rows × 4 columns</p>\n",
       "</div>"
      ],
      "text/plain": [
       "       user_id  article_id  rating  \\\n",
       "0            1         456       1   \n",
       "1            1        2934       1   \n",
       "2            1          82       1   \n",
       "3            1        1365       1   \n",
       "4            1         221       1   \n",
       "...        ...         ...     ...   \n",
       "16726     1087        2242       1   \n",
       "16727     1087         419       1   \n",
       "16728     1087         784       1   \n",
       "16729     1087        1249       1   \n",
       "16730     1087        1692       1   \n",
       "\n",
       "                                                   title  \n",
       "0      Obtenez 6 mois d'accès à Pluralsight, la plus ...  \n",
       "1      La plateforme cloud de Google est désormais un...  \n",
       "2            La technologie derrière les photos d'aperçu  \n",
       "3      Les VM préemptives de Google Cloud Platform so...  \n",
       "4      Ray Kurzweil: Le monde ne se détériore pas - n...  \n",
       "...                                                  ...  \n",
       "16726      Optimiser l'utilisation de la mémoire Arduino  \n",
       "16727  Le plan national de l'Internet des objets sort...  \n",
       "16728  Nintendo sortira Mini NES avec 30 jeux préchar...  \n",
       "16729  Coût d'erreur - Cinq raisons d'investir dans l...  \n",
       "16730  Tabs vs Spaces: comment ils écrivent Java sur ...  \n",
       "\n",
       "[16731 rows x 4 columns]"
      ]
     },
     "execution_count": 8,
     "metadata": {},
     "output_type": "execute_result"
    }
   ],
   "source": [
    "ratings"
   ]
  },
  {
   "cell_type": "code",
   "execution_count": 9,
   "id": "697df88c",
   "metadata": {},
   "outputs": [
    {
     "data": {
      "text/plain": [
       "5"
      ]
     },
     "execution_count": 9,
     "metadata": {},
     "output_type": "execute_result"
    }
   ],
   "source": [
    "ratings['rating'].max()"
   ]
  },
  {
   "cell_type": "code",
   "execution_count": 10,
   "id": "29ec7ad7",
   "metadata": {},
   "outputs": [
    {
     "data": {
      "text/plain": [
       "Index(['user_id', 'article_id', 'rating', 'title'], dtype='object')"
      ]
     },
     "execution_count": 10,
     "metadata": {},
     "output_type": "execute_result"
    }
   ],
   "source": [
    "ratings.columns"
   ]
  },
  {
   "cell_type": "code",
   "execution_count": 11,
   "id": "57cd9a07",
   "metadata": {},
   "outputs": [],
   "source": [
    "#ratings['article']=ratings['article_id'].map(str)+str(':')+ratings['title'].map(str)"
   ]
  },
  {
   "cell_type": "code",
   "execution_count": 12,
   "id": "be3e189b",
   "metadata": {},
   "outputs": [],
   "source": [
    "ratings=ratings.drop(['title'],axis=1)"
   ]
  },
  {
   "cell_type": "code",
   "execution_count": 13,
   "id": "5ee6e337",
   "metadata": {},
   "outputs": [
    {
     "data": {
      "text/html": [
       "<div>\n",
       "<style scoped>\n",
       "    .dataframe tbody tr th:only-of-type {\n",
       "        vertical-align: middle;\n",
       "    }\n",
       "\n",
       "    .dataframe tbody tr th {\n",
       "        vertical-align: top;\n",
       "    }\n",
       "\n",
       "    .dataframe thead th {\n",
       "        text-align: right;\n",
       "    }\n",
       "</style>\n",
       "<table border=\"1\" class=\"dataframe\">\n",
       "  <thead>\n",
       "    <tr style=\"text-align: right;\">\n",
       "      <th></th>\n",
       "      <th>user_id</th>\n",
       "      <th>article_id</th>\n",
       "      <th>rating</th>\n",
       "    </tr>\n",
       "  </thead>\n",
       "  <tbody>\n",
       "    <tr>\n",
       "      <th>0</th>\n",
       "      <td>1</td>\n",
       "      <td>456</td>\n",
       "      <td>1</td>\n",
       "    </tr>\n",
       "    <tr>\n",
       "      <th>1</th>\n",
       "      <td>1</td>\n",
       "      <td>2934</td>\n",
       "      <td>1</td>\n",
       "    </tr>\n",
       "    <tr>\n",
       "      <th>2</th>\n",
       "      <td>1</td>\n",
       "      <td>82</td>\n",
       "      <td>1</td>\n",
       "    </tr>\n",
       "    <tr>\n",
       "      <th>3</th>\n",
       "      <td>1</td>\n",
       "      <td>1365</td>\n",
       "      <td>1</td>\n",
       "    </tr>\n",
       "    <tr>\n",
       "      <th>4</th>\n",
       "      <td>1</td>\n",
       "      <td>221</td>\n",
       "      <td>1</td>\n",
       "    </tr>\n",
       "    <tr>\n",
       "      <th>...</th>\n",
       "      <td>...</td>\n",
       "      <td>...</td>\n",
       "      <td>...</td>\n",
       "    </tr>\n",
       "    <tr>\n",
       "      <th>16726</th>\n",
       "      <td>1087</td>\n",
       "      <td>2242</td>\n",
       "      <td>1</td>\n",
       "    </tr>\n",
       "    <tr>\n",
       "      <th>16727</th>\n",
       "      <td>1087</td>\n",
       "      <td>419</td>\n",
       "      <td>1</td>\n",
       "    </tr>\n",
       "    <tr>\n",
       "      <th>16728</th>\n",
       "      <td>1087</td>\n",
       "      <td>784</td>\n",
       "      <td>1</td>\n",
       "    </tr>\n",
       "    <tr>\n",
       "      <th>16729</th>\n",
       "      <td>1087</td>\n",
       "      <td>1249</td>\n",
       "      <td>1</td>\n",
       "    </tr>\n",
       "    <tr>\n",
       "      <th>16730</th>\n",
       "      <td>1087</td>\n",
       "      <td>1692</td>\n",
       "      <td>1</td>\n",
       "    </tr>\n",
       "  </tbody>\n",
       "</table>\n",
       "<p>16731 rows × 3 columns</p>\n",
       "</div>"
      ],
      "text/plain": [
       "       user_id  article_id  rating\n",
       "0            1         456       1\n",
       "1            1        2934       1\n",
       "2            1          82       1\n",
       "3            1        1365       1\n",
       "4            1         221       1\n",
       "...        ...         ...     ...\n",
       "16726     1087        2242       1\n",
       "16727     1087         419       1\n",
       "16728     1087         784       1\n",
       "16729     1087        1249       1\n",
       "16730     1087        1692       1\n",
       "\n",
       "[16731 rows x 3 columns]"
      ]
     },
     "execution_count": 13,
     "metadata": {},
     "output_type": "execute_result"
    }
   ],
   "source": [
    "ratings"
   ]
  },
  {
   "cell_type": "markdown",
   "id": "47f0f288",
   "metadata": {},
   "source": [
    "# Creating train,test and split"
   ]
  },
  {
   "cell_type": "code",
   "execution_count": 14,
   "id": "9d38f6a8",
   "metadata": {},
   "outputs": [],
   "source": [
    "#assisgn X as original dataset: to prevent any change in original dataset\n",
    "X=ratings.copy()\n",
    "X_train, X_valid=train_test_split(X,test_size=0.25,random_state=50)"
   ]
  },
  {
   "cell_type": "code",
   "execution_count": 15,
   "id": "4dfac145",
   "metadata": {},
   "outputs": [],
   "source": [
    "#Function that computes the root mean squared error (or RMSE)\n",
    "def rmse(y_true, y_pred):\n",
    "    return np.sqrt(mean_squared_error(y_true, y_pred))"
   ]
  },
  {
   "cell_type": "markdown",
   "id": "00c04959",
   "metadata": {},
   "source": [
    "# Create baseline using average of all ratings"
   ]
  },
  {
   "cell_type": "code",
   "execution_count": 16,
   "id": "35915245",
   "metadata": {},
   "outputs": [],
   "source": [
    "#Define the baseline model to always return average of all available ratings\n",
    "def baseline(user_id,article_id):\n",
    "    return X_train['rating'].mean()"
   ]
  },
  {
   "cell_type": "code",
   "execution_count": 36,
   "id": "9a50daad",
   "metadata": {},
   "outputs": [],
   "source": [
    "#Function to compute the RMSE score obtained on the test set by a model\n",
    "def rmse_score(model):\n",
    "    \n",
    "    #Construct a list of user-movie tuples from the test dataset\n",
    "    id_pairs = zip(X_valid['user_id'], X_valid['article_id'])\n",
    "    \n",
    "    #Predict the rating for every user-movie tuple\n",
    "    y_pred = np.array([model(user, article_id) for (user, article_id) in id_pairs])\n",
    "    \n",
    "    #Extract the actual ratings given by the users in the test data\n",
    "    y_true = np.array(X_valid['rating'])\n",
    "    \n",
    "    \n",
    "    #Return the final RMSE score\n",
    "    return rmse(y_true, y_pred)\n"
   ]
  },
  {
   "cell_type": "code",
   "execution_count": 37,
   "id": "ca28514e",
   "metadata": {},
   "outputs": [
    {
     "data": {
      "text/plain": [
       "0.97935326982758"
      ]
     },
     "execution_count": 37,
     "metadata": {},
     "output_type": "execute_result"
    }
   ],
   "source": [
    "rmse_score(baseline)"
   ]
  },
  {
   "cell_type": "code",
   "execution_count": 38,
   "id": "97d456ff",
   "metadata": {},
   "outputs": [
    {
     "data": {
      "text/html": [
       "<div>\n",
       "<style scoped>\n",
       "    .dataframe tbody tr th:only-of-type {\n",
       "        vertical-align: middle;\n",
       "    }\n",
       "\n",
       "    .dataframe tbody tr th {\n",
       "        vertical-align: top;\n",
       "    }\n",
       "\n",
       "    .dataframe thead th {\n",
       "        text-align: right;\n",
       "    }\n",
       "</style>\n",
       "<table border=\"1\" class=\"dataframe\">\n",
       "  <thead>\n",
       "    <tr style=\"text-align: right;\">\n",
       "      <th>article_id</th>\n",
       "      <th>3</th>\n",
       "      <th>4</th>\n",
       "      <th>6</th>\n",
       "      <th>7</th>\n",
       "      <th>8</th>\n",
       "      <th>9</th>\n",
       "      <th>10</th>\n",
       "      <th>11</th>\n",
       "      <th>12</th>\n",
       "      <th>13</th>\n",
       "      <th>...</th>\n",
       "      <th>2962</th>\n",
       "      <th>2963</th>\n",
       "      <th>2964</th>\n",
       "      <th>2965</th>\n",
       "      <th>2966</th>\n",
       "      <th>2968</th>\n",
       "      <th>2969</th>\n",
       "      <th>2970</th>\n",
       "      <th>2974</th>\n",
       "      <th>2976</th>\n",
       "    </tr>\n",
       "    <tr>\n",
       "      <th>user_id</th>\n",
       "      <th></th>\n",
       "      <th></th>\n",
       "      <th></th>\n",
       "      <th></th>\n",
       "      <th></th>\n",
       "      <th></th>\n",
       "      <th></th>\n",
       "      <th></th>\n",
       "      <th></th>\n",
       "      <th></th>\n",
       "      <th></th>\n",
       "      <th></th>\n",
       "      <th></th>\n",
       "      <th></th>\n",
       "      <th></th>\n",
       "      <th></th>\n",
       "      <th></th>\n",
       "      <th></th>\n",
       "      <th></th>\n",
       "      <th></th>\n",
       "      <th></th>\n",
       "    </tr>\n",
       "  </thead>\n",
       "  <tbody>\n",
       "    <tr>\n",
       "      <th>1</th>\n",
       "      <td>NaN</td>\n",
       "      <td>NaN</td>\n",
       "      <td>NaN</td>\n",
       "      <td>NaN</td>\n",
       "      <td>NaN</td>\n",
       "      <td>NaN</td>\n",
       "      <td>NaN</td>\n",
       "      <td>NaN</td>\n",
       "      <td>NaN</td>\n",
       "      <td>NaN</td>\n",
       "      <td>...</td>\n",
       "      <td>NaN</td>\n",
       "      <td>NaN</td>\n",
       "      <td>NaN</td>\n",
       "      <td>NaN</td>\n",
       "      <td>NaN</td>\n",
       "      <td>NaN</td>\n",
       "      <td>NaN</td>\n",
       "      <td>NaN</td>\n",
       "      <td>NaN</td>\n",
       "      <td>NaN</td>\n",
       "    </tr>\n",
       "    <tr>\n",
       "      <th>2</th>\n",
       "      <td>NaN</td>\n",
       "      <td>NaN</td>\n",
       "      <td>NaN</td>\n",
       "      <td>NaN</td>\n",
       "      <td>NaN</td>\n",
       "      <td>NaN</td>\n",
       "      <td>NaN</td>\n",
       "      <td>NaN</td>\n",
       "      <td>NaN</td>\n",
       "      <td>NaN</td>\n",
       "      <td>...</td>\n",
       "      <td>NaN</td>\n",
       "      <td>NaN</td>\n",
       "      <td>NaN</td>\n",
       "      <td>NaN</td>\n",
       "      <td>NaN</td>\n",
       "      <td>NaN</td>\n",
       "      <td>NaN</td>\n",
       "      <td>NaN</td>\n",
       "      <td>NaN</td>\n",
       "      <td>NaN</td>\n",
       "    </tr>\n",
       "    <tr>\n",
       "      <th>3</th>\n",
       "      <td>NaN</td>\n",
       "      <td>NaN</td>\n",
       "      <td>NaN</td>\n",
       "      <td>NaN</td>\n",
       "      <td>NaN</td>\n",
       "      <td>NaN</td>\n",
       "      <td>NaN</td>\n",
       "      <td>NaN</td>\n",
       "      <td>NaN</td>\n",
       "      <td>NaN</td>\n",
       "      <td>...</td>\n",
       "      <td>NaN</td>\n",
       "      <td>NaN</td>\n",
       "      <td>NaN</td>\n",
       "      <td>NaN</td>\n",
       "      <td>NaN</td>\n",
       "      <td>NaN</td>\n",
       "      <td>NaN</td>\n",
       "      <td>NaN</td>\n",
       "      <td>NaN</td>\n",
       "      <td>NaN</td>\n",
       "    </tr>\n",
       "    <tr>\n",
       "      <th>5</th>\n",
       "      <td>NaN</td>\n",
       "      <td>NaN</td>\n",
       "      <td>NaN</td>\n",
       "      <td>NaN</td>\n",
       "      <td>NaN</td>\n",
       "      <td>NaN</td>\n",
       "      <td>NaN</td>\n",
       "      <td>NaN</td>\n",
       "      <td>NaN</td>\n",
       "      <td>NaN</td>\n",
       "      <td>...</td>\n",
       "      <td>NaN</td>\n",
       "      <td>NaN</td>\n",
       "      <td>NaN</td>\n",
       "      <td>NaN</td>\n",
       "      <td>NaN</td>\n",
       "      <td>NaN</td>\n",
       "      <td>NaN</td>\n",
       "      <td>NaN</td>\n",
       "      <td>NaN</td>\n",
       "      <td>NaN</td>\n",
       "    </tr>\n",
       "    <tr>\n",
       "      <th>7</th>\n",
       "      <td>NaN</td>\n",
       "      <td>NaN</td>\n",
       "      <td>NaN</td>\n",
       "      <td>NaN</td>\n",
       "      <td>NaN</td>\n",
       "      <td>NaN</td>\n",
       "      <td>NaN</td>\n",
       "      <td>NaN</td>\n",
       "      <td>NaN</td>\n",
       "      <td>NaN</td>\n",
       "      <td>...</td>\n",
       "      <td>NaN</td>\n",
       "      <td>NaN</td>\n",
       "      <td>NaN</td>\n",
       "      <td>NaN</td>\n",
       "      <td>NaN</td>\n",
       "      <td>NaN</td>\n",
       "      <td>NaN</td>\n",
       "      <td>NaN</td>\n",
       "      <td>NaN</td>\n",
       "      <td>NaN</td>\n",
       "    </tr>\n",
       "  </tbody>\n",
       "</table>\n",
       "<p>5 rows × 2365 columns</p>\n",
       "</div>"
      ],
      "text/plain": [
       "article_id  3     4     6     7     8     9     10    11    12    13    ...  \\\n",
       "user_id                                                                 ...   \n",
       "1            NaN   NaN   NaN   NaN   NaN   NaN   NaN   NaN   NaN   NaN  ...   \n",
       "2            NaN   NaN   NaN   NaN   NaN   NaN   NaN   NaN   NaN   NaN  ...   \n",
       "3            NaN   NaN   NaN   NaN   NaN   NaN   NaN   NaN   NaN   NaN  ...   \n",
       "5            NaN   NaN   NaN   NaN   NaN   NaN   NaN   NaN   NaN   NaN  ...   \n",
       "7            NaN   NaN   NaN   NaN   NaN   NaN   NaN   NaN   NaN   NaN  ...   \n",
       "\n",
       "article_id  2962  2963  2964  2965  2966  2968  2969  2970  2974  2976  \n",
       "user_id                                                                 \n",
       "1            NaN   NaN   NaN   NaN   NaN   NaN   NaN   NaN   NaN   NaN  \n",
       "2            NaN   NaN   NaN   NaN   NaN   NaN   NaN   NaN   NaN   NaN  \n",
       "3            NaN   NaN   NaN   NaN   NaN   NaN   NaN   NaN   NaN   NaN  \n",
       "5            NaN   NaN   NaN   NaN   NaN   NaN   NaN   NaN   NaN   NaN  \n",
       "7            NaN   NaN   NaN   NaN   NaN   NaN   NaN   NaN   NaN   NaN  \n",
       "\n",
       "[5 rows x 2365 columns]"
      ]
     },
     "execution_count": 38,
     "metadata": {},
     "output_type": "execute_result"
    }
   ],
   "source": [
    "#item based using simple mean\n",
    "r_matrix = X_train.pivot_table(values='rating', index='user_id', columns='article_id')\n",
    "\n",
    "r_matrix.head()"
   ]
  },
  {
   "cell_type": "code",
   "execution_count": 39,
   "id": "bad6c223",
   "metadata": {},
   "outputs": [],
   "source": [
    "#Item Based Collaborative Filter using Mean Ratings\n",
    "def cf_item_mean(user_id, article_id):\n",
    "        \n",
    "    #Compute the mean of all the ratings given by the user\n",
    "    mean_rating = r_matrix.loc[user_id].mean()\n",
    "\n",
    "    return mean_rating"
   ]
  },
  {
   "cell_type": "code",
   "execution_count": 40,
   "id": "b3fb175e",
   "metadata": {},
   "outputs": [
    {
     "data": {
      "text/plain": [
       "0.9198258309893801"
      ]
     },
     "execution_count": 40,
     "metadata": {},
     "output_type": "execute_result"
    }
   ],
   "source": [
    "#Compute RMSE for the Mean model\n",
    "rmse_score(cf_item_mean)"
   ]
  },
  {
   "cell_type": "code",
   "execution_count": 41,
   "id": "78eab122",
   "metadata": {},
   "outputs": [],
   "source": [
    "from surprise import Dataset, Reader\n",
    "from surprise.model_selection import GridSearchCV\n",
    "from surprise.prediction_algorithms import KNNWithMeans"
   ]
  },
  {
   "cell_type": "code",
   "execution_count": 42,
   "id": "6f61d91e",
   "metadata": {},
   "outputs": [],
   "source": [
    "#surprise lib understnds the data in defined format****IMP***\n",
    "reader=Reader(rating_scale=(1,5))\n",
    "data=Dataset.load_from_df(X_train[['user_id','article_id','rating']],reader)"
   ]
  },
  {
   "cell_type": "code",
   "execution_count": 43,
   "id": "6aba032c",
   "metadata": {},
   "outputs": [],
   "source": [
    "#surprise lib understnds the data in defined format****IMP***\n",
    "reader=Reader(rating_scale=(1,5))\n",
    "data=Dataset.load_from_df(X_train[['user_id','article_id','rating']],reader)"
   ]
  },
  {
   "cell_type": "markdown",
   "id": "faf43a06",
   "metadata": {},
   "source": [
    "# Grid search for parameter tuning"
   ]
  },
  {
   "cell_type": "code",
   "execution_count": 50,
   "id": "01eaa34e",
   "metadata": {},
   "outputs": [
    {
     "name": "stdout",
     "output_type": "stream",
     "text": [
      "1.1077882293306536\n",
      "{'k': 31, 'sim_options': {'name': 'cosine', 'user_based': False}}\n"
     ]
    }
   ],
   "source": [
    "#Defining the parameter grid with k as the neighbourhood size & trying 2 similarity measures KNNwithMeans\n",
    "#& 5 folds, we also use user_based as True and false to try both user based and item based collaborative filtering\n",
    "#and check which performs better\n",
    "param_grid = {\"k\":list(range(1,50,5)),\n",
    "              \"sim_options\":{\"name\":[\"cosine\"],'user_based': [False]}}\n",
    "\n",
    "#Trying to find the best set of hyperparameters using Grid Search\n",
    "gs = GridSearchCV(KNNWithMeans, \n",
    "                  param_grid, \n",
    "                  measures=['rmse'], \n",
    "                  cv=5, \n",
    "                  n_jobs = -1)\n",
    "\n",
    "#We fit the grid search on data to find out the best score\n",
    "gs.fit(data)\n",
    "\n",
    "#Printing the best score\n",
    "print(gs.best_score['rmse'])\n",
    "\n",
    "#Printing the best set of parameters\n",
    "print(gs.best_params['rmse'])"
   ]
  },
  {
   "cell_type": "markdown",
   "id": "d9e81d91",
   "metadata": {},
   "source": [
    "# model fitment itemwise"
   ]
  },
  {
   "cell_type": "code",
   "execution_count": 51,
   "id": "f93190f0",
   "metadata": {},
   "outputs": [
    {
     "name": "stdout",
     "output_type": "stream",
     "text": [
      "Computing the cosine similarity matrix...\n",
      "Done computing similarity matrix.\n"
     ]
    },
    {
     "data": {
      "text/plain": [
       "<surprise.prediction_algorithms.knns.KNNWithMeans at 0x7fa438aee280>"
      ]
     },
     "execution_count": 51,
     "metadata": {},
     "output_type": "execute_result"
    }
   ],
   "source": [
    "#Defining similarity measure as per the best parameters\n",
    "sim_options = {'name': 'cosine', 'user_based': False}\n",
    "\n",
    "#Fitting the model on train data\n",
    "model = KNNWithMeans(k = 31, sim_options = sim_options)\n",
    "\n",
    "#Build full trainset will essentially fits the knnwithmeans on the complete train set instead of a part of it\n",
    "#like we do in cross validation\n",
    "model.fit(data.build_full_trainset())"
   ]
  },
  {
   "cell_type": "code",
   "execution_count": 54,
   "id": "cab7b79d",
   "metadata": {},
   "outputs": [
    {
     "data": {
      "text/plain": [
       "1.1102217323242622"
      ]
     },
     "execution_count": 54,
     "metadata": {},
     "output_type": "execute_result"
    }
   ],
   "source": [
    "#id pairs for test set\n",
    "id_pairs = zip(X_valid['user_id'], X_valid['article_id'])\n",
    "\n",
    "#Making predictions for test set using predict method from Surprise\n",
    "y_pred = [model.predict(uid = user, iid = movie)[3] for (user, movie) in id_pairs]\n",
    "\n",
    "#Actual rating values for test set\n",
    "y_true = X_valid['rating']\n",
    "\n",
    "# Checking performance on test set\n",
    "rmse(y_true, y_pred)"
   ]
  },
  {
   "cell_type": "code",
   "execution_count": 55,
   "id": "5296bd34",
   "metadata": {},
   "outputs": [],
   "source": [
    "#prediction using test dataset\n",
    "#id pairs for test set\n",
    "id_pairs = zip(test['user_id'], test['article_id'])\n",
    "\n",
    "#Making predictions for test set using predict method from Surprise\n",
    "y_pred = [model.predict(uid = user, iid = movie)[3] for (user, movie) in id_pairs]"
   ]
  },
  {
   "cell_type": "code",
   "execution_count": 56,
   "id": "2e2dabcd",
   "metadata": {},
   "outputs": [],
   "source": [
    "y_pred=pd.DataFrame({\"ratings_test\":y_pred})"
   ]
  },
  {
   "cell_type": "code",
   "execution_count": 57,
   "id": "7ee0e8e3",
   "metadata": {},
   "outputs": [],
   "source": [
    "y_pred.to_csv('solution_2_itemwise.csv',index=False)"
   ]
  }
 ],
 "metadata": {
  "kernelspec": {
   "display_name": "Python 3",
   "language": "python",
   "name": "python3"
  },
  "language_info": {
   "codemirror_mode": {
    "name": "ipython",
    "version": 3
   },
   "file_extension": ".py",
   "mimetype": "text/x-python",
   "name": "python",
   "nbconvert_exporter": "python",
   "pygments_lexer": "ipython3",
   "version": "3.8.8"
  }
 },
 "nbformat": 4,
 "nbformat_minor": 5
}
